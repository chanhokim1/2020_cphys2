{
 "cells": [
  {
   "cell_type": "code",
   "execution_count": 1,
   "metadata": {},
   "outputs": [],
   "source": [
    "from keras.datasets import mnist\n",
    "from tensorflow import keras\n",
    "from keras import models \n",
    "from keras import layers\n",
    "import numpy as np\n",
    "import matplotlib.pyplot as plt\n",
    "from keras.utils import to_categorical\n",
    "\n",
    "(X, y), (X_test, y_test) = mnist.load_data()"
   ]
  },
  {
   "cell_type": "code",
   "execution_count": 2,
   "metadata": {},
   "outputs": [],
   "source": [
    "y = to_categorical(y)\n",
    "y_test = to_categorical(y_test)"
   ]
  },
  {
   "cell_type": "markdown",
   "metadata": {},
   "source": [
    "Sequential을 설정하여 학습할 layer를 쌓음."
   ]
  },
  {
   "cell_type": "code",
   "execution_count": 3,
   "metadata": {},
   "outputs": [],
   "source": [
    "# hidden layer를 쌓는 과정\n",
    "net = models.Sequential()\n",
    "net.add(layers.Dense(512, activation='relu', input_shape=(28*28,)))\n",
    "net.add(layers.Dense(512, activation='relu', input_shape=(28*28,))) \n",
    "net.add(layers.Dense(512, activation='relu', input_shape=(28*28,)))\n",
    "net.add(layers.Dense(512, activation='relu', input_shape=(28*28,)))\n",
    "net.add(layers.Dense(10, activation='softmax'))\n",
    "net.compile(optimizer='nadam',loss='categorical_crossentropy',metrics=['acc'])"
   ]
  },
  {
   "cell_type": "code",
   "execution_count": 4,
   "metadata": {},
   "outputs": [],
   "source": [
    "# preprocessing\n",
    "X = X.reshape((60000, 28*28))\n",
    "X = X/255\n",
    "\n",
    "X_test = X_test.reshape((10000, 28*28))\n",
    "X_test = X_test/255"
   ]
  },
  {
   "cell_type": "code",
   "execution_count": 5,
   "metadata": {},
   "outputs": [],
   "source": [
    "X_val = X[:10000]\n",
    "partial_X = X[10000:]\n",
    "\n",
    "y_val = y[:10000]\n",
    "partial_y = y[10000:]"
   ]
  },
  {
   "cell_type": "markdown",
   "metadata": {},
   "source": [
    "정확도를 높이기 위해 validation 사용."
   ]
  },
  {
   "cell_type": "code",
   "execution_count": 6,
   "metadata": {},
   "outputs": [
    {
     "name": "stdout",
     "output_type": "stream",
     "text": [
      "Epoch 1/20\n",
      "391/391 [==============================] - 7s 19ms/step - loss: 0.2430 - acc: 0.9248 - val_loss: 0.1281 - val_acc: 0.9612\n",
      "Epoch 2/20\n",
      "391/391 [==============================] - 7s 18ms/step - loss: 0.0870 - acc: 0.9732 - val_loss: 0.1135 - val_acc: 0.9643\n",
      "Epoch 3/20\n",
      "391/391 [==============================] - 7s 18ms/step - loss: 0.0564 - acc: 0.9826 - val_loss: 0.1247 - val_acc: 0.9616\n",
      "Epoch 4/20\n",
      "391/391 [==============================] - 7s 18ms/step - loss: 0.0457 - acc: 0.9857 - val_loss: 0.0882 - val_acc: 0.9765\n",
      "Epoch 5/20\n",
      "391/391 [==============================] - 7s 18ms/step - loss: 0.0366 - acc: 0.9880 - val_loss: 0.1020 - val_acc: 0.9736\n",
      "Epoch 6/20\n",
      "391/391 [==============================] - 7s 18ms/step - loss: 0.0308 - acc: 0.9906 - val_loss: 0.0795 - val_acc: 0.9796\n",
      "Epoch 7/20\n",
      "391/391 [==============================] - 7s 19ms/step - loss: 0.0245 - acc: 0.9922 - val_loss: 0.1086 - val_acc: 0.9747\n",
      "Epoch 8/20\n",
      "391/391 [==============================] - 7s 18ms/step - loss: 0.0216 - acc: 0.9931 - val_loss: 0.0775 - val_acc: 0.9833\n",
      "Epoch 9/20\n",
      "391/391 [==============================] - 7s 18ms/step - loss: 0.0219 - acc: 0.9931 - val_loss: 0.1087 - val_acc: 0.9743\n",
      "Epoch 10/20\n",
      "391/391 [==============================] - 7s 18ms/step - loss: 0.0187 - acc: 0.9940 - val_loss: 0.0950 - val_acc: 0.9786\n",
      "Epoch 11/20\n",
      "391/391 [==============================] - 7s 18ms/step - loss: 0.0165 - acc: 0.9950 - val_loss: 0.0942 - val_acc: 0.9800\n",
      "Epoch 12/20\n",
      "391/391 [==============================] - 7s 18ms/step - loss: 0.0169 - acc: 0.9948 - val_loss: 0.1031 - val_acc: 0.9760\n",
      "Epoch 13/20\n",
      "391/391 [==============================] - 7s 18ms/step - loss: 0.0156 - acc: 0.9953 - val_loss: 0.0913 - val_acc: 0.9792\n",
      "Epoch 14/20\n",
      "391/391 [==============================] - 7s 18ms/step - loss: 0.0151 - acc: 0.9954 - val_loss: 0.1014 - val_acc: 0.9809\n",
      "Epoch 15/20\n",
      "391/391 [==============================] - 7s 18ms/step - loss: 0.0131 - acc: 0.9959 - val_loss: 0.0975 - val_acc: 0.9812\n",
      "Epoch 16/20\n",
      "391/391 [==============================] - 7s 18ms/step - loss: 0.0156 - acc: 0.9952 - val_loss: 0.1318 - val_acc: 0.9734\n",
      "Epoch 17/20\n",
      "391/391 [==============================] - 7s 18ms/step - loss: 0.0125 - acc: 0.9965 - val_loss: 0.0924 - val_acc: 0.9818\n",
      "Epoch 18/20\n",
      "391/391 [==============================] - 7s 18ms/step - loss: 0.0109 - acc: 0.9971 - val_loss: 0.0954 - val_acc: 0.9797\n",
      "Epoch 19/20\n",
      "391/391 [==============================] - 7s 18ms/step - loss: 0.0102 - acc: 0.9973 - val_loss: 0.0929 - val_acc: 0.9801\n",
      "Epoch 20/20\n",
      "391/391 [==============================] - 7s 18ms/step - loss: 0.0110 - acc: 0.9969 - val_loss: 0.0851 - val_acc: 0.9825\n"
     ]
    }
   ],
   "source": [
    "val= net.fit(partial_X,partial_y,epochs=20, batch_size=128,validation_data=(X_val, y_val))"
   ]
  },
  {
   "cell_type": "code",
   "execution_count": 7,
   "metadata": {
    "scrolled": true
   },
   "outputs": [
    {
     "data": {
      "text/plain": [
       "<matplotlib.legend.Legend at 0x25550ef4ac8>"
      ]
     },
     "execution_count": 7,
     "metadata": {},
     "output_type": "execute_result"
    },
    {
     "data": {
      "image/png": "[encoded data removed]",
      "text/plain": [
       "<Figure size 432x288 with 1 Axes>"
      ]
     },
     "metadata": {
      "needs_background": "light"
     },
     "output_type": "display_data"
    }
   ],
   "source": [
    "val_dict = val.history\n",
    "loss = val_dict['loss']\n",
    "val_loss = val_dict['val_loss']\n",
    "\n",
    "x = np.arange(0,len(loss))\n",
    "plt.plot(x,loss,'bo',label='E')\n",
    "plt.plot(x,val_loss,'ro',label='$E_v$')\n",
    "plt.ylim(0,0.2)\n",
    "plt.legend()"
   ]
  },
  {
   "cell_type": "code",
   "execution_count": 8,
   "metadata": {},
   "outputs": [
    {
     "data": {
      "text/plain": [
       "[<matplotlib.lines.Line2D at 0x25550f9ae48>]"
      ]
     },
     "execution_count": 8,
     "metadata": {},
     "output_type": "execute_result"
    },
    {
     "data": {
      "image/png": "[encoded data removed]",
      "text/plain": [
       "<Figure size 432x288 with 1 Axes>"
      ]
     },
     "metadata": {
      "needs_background": "light"
     },
     "output_type": "display_data"
    }
   ],
   "source": [
    "acc = val_dict['acc']\n",
    "val_acc = val_dict['val_acc']\n",
    "plt.plot(x,acc,'bo',label='Accuracy')\n",
    "plt.plot(x,val_acc,'ro',label='A_v')"
   ]
  },
  {
   "cell_type": "code",
   "execution_count": 9,
   "metadata": {
    "scrolled": false
   },
   "outputs": [
    {
     "name": "stdout",
     "output_type": "stream",
     "text": [
      "Model: \"sequential\"\n",
      "_________________________________________________________________\n",
      "Layer (type)                 Output Shape              Param #   \n",
      "=================================================================\n",
      "dense (Dense)                (None, 512)               401920    \n",
      "_________________________________________________________________\n",
      "dense_1 (Dense)              (None, 512)               262656    \n",
      "_________________________________________________________________\n",
      "dense_2 (Dense)              (None, 512)               262656    \n",
      "_________________________________________________________________\n",
      "dense_3 (Dense)              (None, 512)               262656    \n",
      "_________________________________________________________________\n",
      "dense_4 (Dense)              (None, 10)                5130      \n",
      "=================================================================\n",
      "Total params: 1,195,018\n",
      "Trainable params: 1,195,018\n",
      "Non-trainable params: 0\n",
      "_________________________________________________________________\n"
     ]
    }
   ],
   "source": [
    "net.summary()"
   ]
  },
  {
   "cell_type": "markdown",
   "metadata": {},
   "source": [
    "test data를 분류한 결과 0.9812 정도의 정확로로 MNIST data를 분류할 수 있다."
   ]
  },
  {
   "cell_type": "code",
   "execution_count": 10,
   "metadata": {},
   "outputs": [
    {
     "name": "stdout",
     "output_type": "stream",
     "text": [
      "313/313 [==============================] - 0s 1ms/step - loss: 0.0960 - acc: 0.9812\n"
     ]
    }
   ],
   "source": [
    "test_loss, test_acc = net.evaluate(X_test, y_test)"
   ]
  },
  {
   "cell_type": "code",
   "execution_count": null,
   "metadata": {},
   "outputs": [],
   "source": []
  }
 ],
 "metadata": {
  "kernelspec": {
   "display_name": "Python 3",
   "language": "python",
   "name": "python3"
  },
  "language_info": {
   "codemirror_mode": {
    "name": "ipython",
    "version": 3
   },
   "file_extension": ".py",
   "mimetype": "text/x-python",
   "name": "python",
   "nbconvert_exporter": "python",
   "pygments_lexer": "ipython3",
   "version": "3.6.10"
  }
 },
 "nbformat": 4,
 "nbformat_minor": 4
}
