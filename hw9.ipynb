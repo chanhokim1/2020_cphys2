{
 "cells": [
  {
   "cell_type": "markdown",
   "metadata": {
    "id": "-fhlEsIUAZ1j"
   },
   "source": [
    "## Multi-Layer Perceptron (MLP)"
   ]
  },
  {
   "cell_type": "code",
   "execution_count": 23,
   "metadata": {
    "executionInfo": {
     "elapsed": 2420,
     "status": "ok",
     "timestamp": 1605416602052,
     "user": {
      "displayName": "김찬호",
      "photoUrl": "",
      "userId": "05972206846376352621"
     },
     "user_tz": -540
    },
    "id": "V1eVHD0OAZ1n"
   },
   "outputs": [],
   "source": [
    "from tensorflow import keras\n",
    "from keras import models \n",
    "from keras import layers\n",
    "import numpy as np\n",
    "import matplotlib.pyplot as plt\n",
    "from keras.utils import to_categorical\n",
    "from keras.datasets import fashion_mnist"
   ]
  },
  {
   "cell_type": "code",
   "execution_count": 24,
   "metadata": {
    "executionInfo": {
     "elapsed": 3844,
     "status": "ok",
     "timestamp": 1605416603486,
     "user": {
      "displayName": "김찬호",
      "photoUrl": "",
      "userId": "05972206846376352621"
     },
     "user_tz": -540
    },
    "id": "9pt_fAwWAZ1q"
   },
   "outputs": [],
   "source": [
    "(X_train, y_train), (X_test, y_test) = fashion_mnist.load_data()\n",
    "y_train=to_categorical(y_train)\n",
    "y_test=to_categorical(y_test)\n",
    "\n",
    "# preprocessing\n",
    "X_train = X_train.reshape((60000, 28*28))\n",
    "X_train = X_train/255\n",
    "\n",
    "X_test = X_test.reshape((10000, 28*28))\n",
    "X_test = X_test/255\n",
    "\n",
    "net = models.Sequential()\n",
    "net.add(layers.Dense(512, activation='relu', input_shape=(28*28,))) \n",
    "net.add(layers.Dense(512, activation='relu')) \n",
    "net.add(layers.Dropout(0.2))\n",
    "net.add(layers.Dense(512, activation='relu')) \n",
    "net.add(layers.Dropout(0.2))\n",
    "net.add(layers.Dense(10, activation='softmax')) \n",
    "net.compile(optimizer='nadam',loss='categorical_crossentropy',metrics=['acc'])"
   ]
  },
  {
   "cell_type": "code",
   "execution_count": 25,
   "metadata": {
    "executionInfo": {
     "elapsed": 3841,
     "status": "ok",
     "timestamp": 1605416603488,
     "user": {
      "displayName": "김찬호",
      "photoUrl": "",
      "userId": "05972206846376352621"
     },
     "user_tz": -540
    },
    "id": "SsZ_Cx6lAZ1s"
   },
   "outputs": [],
   "source": [
    "X_val = X_train[:10000]\n",
    "partial_X_train = X_train[10000:]\n",
    "\n",
    "y_val = y_train[:10000]\n",
    "partial_y_train = y_train[10000:]"
   ]
  },
  {
   "cell_type": "code",
   "execution_count": 26,
   "metadata": {
    "colab": {
     "base_uri": "https://localhost:8080/"
    },
    "executionInfo": {
     "elapsed": 581915,
     "status": "ok",
     "timestamp": 1605417181581,
     "user": {
      "displayName": "김찬호",
      "photoUrl": "",
      "userId": "05972206846376352621"
     },
     "user_tz": -540
    },
    "id": "vweAbQ5wAZ1u",
    "outputId": "b139760b-48a2-4444-cedf-6f1f44f50f09"
   },
   "outputs": [
    {
     "name": "stdout",
     "output_type": "stream",
     "text": [
      "Epoch 1/30\n",
      "782/782 [==============================] - 19s 24ms/step - loss: 0.5126 - acc: 0.8140 - val_loss: 0.5284 - val_acc: 0.7947\n",
      "Epoch 2/30\n",
      "782/782 [==============================] - 18s 23ms/step - loss: 0.3675 - acc: 0.8655 - val_loss: 0.3792 - val_acc: 0.8626\n",
      "Epoch 3/30\n",
      "782/782 [==============================] - 19s 24ms/step - loss: 0.3305 - acc: 0.8787 - val_loss: 0.3665 - val_acc: 0.8657\n",
      "Epoch 4/30\n",
      "782/782 [==============================] - 18s 23ms/step - loss: 0.3041 - acc: 0.8878 - val_loss: 0.3512 - val_acc: 0.8718\n",
      "Epoch 5/30\n",
      "782/782 [==============================] - 18s 23ms/step - loss: 0.2855 - acc: 0.8928 - val_loss: 0.3831 - val_acc: 0.8584\n",
      "Epoch 6/30\n",
      "782/782 [==============================] - 19s 24ms/step - loss: 0.2719 - acc: 0.8997 - val_loss: 0.3044 - val_acc: 0.8880\n",
      "Epoch 7/30\n",
      "782/782 [==============================] - 18s 24ms/step - loss: 0.2580 - acc: 0.9029 - val_loss: 0.3262 - val_acc: 0.8837\n",
      "Epoch 8/30\n",
      "782/782 [==============================] - 21s 27ms/step - loss: 0.2468 - acc: 0.9061 - val_loss: 0.3198 - val_acc: 0.8851\n",
      "Epoch 9/30\n",
      "782/782 [==============================] - 22s 28ms/step - loss: 0.2362 - acc: 0.9106 - val_loss: 0.3208 - val_acc: 0.8900\n",
      "Epoch 10/30\n",
      "782/782 [==============================] - 20s 25ms/step - loss: 0.2302 - acc: 0.9141 - val_loss: 0.2993 - val_acc: 0.8937\n",
      "Epoch 11/30\n",
      "782/782 [==============================] - 20s 25ms/step - loss: 0.2217 - acc: 0.9159 - val_loss: 0.3350 - val_acc: 0.8848\n",
      "Epoch 12/30\n",
      "782/782 [==============================] - 20s 25ms/step - loss: 0.2128 - acc: 0.9189 - val_loss: 0.3417 - val_acc: 0.8891\n",
      "Epoch 13/30\n",
      "782/782 [==============================] - 20s 25ms/step - loss: 0.2089 - acc: 0.9206 - val_loss: 0.3073 - val_acc: 0.8974\n",
      "Epoch 14/30\n",
      "782/782 [==============================] - 20s 26ms/step - loss: 0.2016 - acc: 0.9229 - val_loss: 0.3474 - val_acc: 0.8922\n",
      "Epoch 15/30\n",
      "782/782 [==============================] - 18s 24ms/step - loss: 0.1981 - acc: 0.9250 - val_loss: 0.3046 - val_acc: 0.8976\n",
      "Epoch 16/30\n",
      "782/782 [==============================] - 19s 24ms/step - loss: 0.1916 - acc: 0.9267 - val_loss: 0.3144 - val_acc: 0.8948\n",
      "Epoch 17/30\n",
      "782/782 [==============================] - 19s 24ms/step - loss: 0.1864 - acc: 0.9293 - val_loss: 0.3253 - val_acc: 0.8980\n",
      "Epoch 18/30\n",
      "782/782 [==============================] - 18s 23ms/step - loss: 0.1817 - acc: 0.9316 - val_loss: 0.3610 - val_acc: 0.8916\n",
      "Epoch 19/30\n",
      "782/782 [==============================] - 18s 23ms/step - loss: 0.1756 - acc: 0.9327 - val_loss: 0.3605 - val_acc: 0.8946\n",
      "Epoch 20/30\n",
      "782/782 [==============================] - 19s 24ms/step - loss: 0.1747 - acc: 0.9340 - val_loss: 0.3591 - val_acc: 0.8954\n",
      "Epoch 21/30\n",
      "782/782 [==============================] - 18s 23ms/step - loss: 0.1659 - acc: 0.9356 - val_loss: 0.3990 - val_acc: 0.8874\n",
      "Epoch 22/30\n",
      "782/782 [==============================] - 19s 24ms/step - loss: 0.1608 - acc: 0.9389 - val_loss: 0.4163 - val_acc: 0.8828\n",
      "Epoch 23/30\n",
      "782/782 [==============================] - 19s 25ms/step - loss: 0.1663 - acc: 0.9364 - val_loss: 0.3995 - val_acc: 0.8948\n",
      "Epoch 24/30\n",
      "782/782 [==============================] - 20s 25ms/step - loss: 0.1593 - acc: 0.9385 - val_loss: 0.3556 - val_acc: 0.8920\n",
      "Epoch 25/30\n",
      "782/782 [==============================] - 18s 24ms/step - loss: 0.1561 - acc: 0.9408 - val_loss: 0.3655 - val_acc: 0.8927\n",
      "Epoch 26/30\n",
      "782/782 [==============================] - 21s 27ms/step - loss: 0.1485 - acc: 0.9431 - val_loss: 0.3651 - val_acc: 0.8954\n",
      "Epoch 27/30\n",
      "782/782 [==============================] - 19s 25ms/step - loss: 0.1526 - acc: 0.9424 - val_loss: 0.3710 - val_acc: 0.8974\n",
      "Epoch 28/30\n",
      "782/782 [==============================] - 20s 25ms/step - loss: 0.1450 - acc: 0.9438 - val_loss: 0.4071 - val_acc: 0.8982\n",
      "Epoch 29/30\n",
      "782/782 [==============================] - 20s 25ms/step - loss: 0.1378 - acc: 0.9468 - val_loss: 0.4505 - val_acc: 0.9011\n",
      "Epoch 30/30\n",
      "782/782 [==============================] - 19s 24ms/step - loss: 0.1434 - acc: 0.9446 - val_loss: 0.3895 - val_acc: 0.8989\n"
     ]
    }
   ],
   "source": [
    "val= net.fit(partial_X_train,partial_y_train,epochs=30, batch_size=64, validation_data=(X_val, y_val))"
   ]
  },
  {
   "cell_type": "code",
   "execution_count": 27,
   "metadata": {
    "colab": {
     "base_uri": "https://localhost:8080/"
    },
    "executionInfo": {
     "elapsed": 583375,
     "status": "ok",
     "timestamp": 1605417183053,
     "user": {
      "displayName": "김찬호",
      "photoUrl": "",
      "userId": "05972206846376352621"
     },
     "user_tz": -540
    },
    "id": "nY0Z-KaDAZ1x",
    "outputId": "8cae22a6-ee2d-4bea-bbb2-dd223d394e87"
   },
   "outputs": [
    {
     "name": "stdout",
     "output_type": "stream",
     "text": [
      "313/313 [==============================] - 1s 4ms/step - loss: 0.4640 - acc: 0.8919\n"
     ]
    }
   ],
   "source": [
    "test_loss, test_acc = net.evaluate(X_test,y_test)"
   ]
  },
  {
   "cell_type": "markdown",
   "metadata": {
    "id": "CJYeIOUhAZ1z"
   },
   "source": [
    "MLP를 학습하여 test 데이터에 적용하면 0.8919 정확도로 데이터를 분리한다."
   ]
  },
  {
   "cell_type": "markdown",
   "metadata": {
    "id": "tm021YB9AZ10"
   },
   "source": [
    "## Convolutional Neural Networks"
   ]
  },
  {
   "cell_type": "code",
   "execution_count": 28,
   "metadata": {
    "executionInfo": {
     "elapsed": 583372,
     "status": "ok",
     "timestamp": 1605417183055,
     "user": {
      "displayName": "김찬호",
      "photoUrl": "",
      "userId": "05972206846376352621"
     },
     "user_tz": -540
    },
    "id": "tI-qE0mGAZ10"
   },
   "outputs": [],
   "source": [
    "from tensorflow import keras\n",
    "from keras import models \n",
    "from keras import layers\n",
    "import numpy as np\n",
    "import matplotlib.pyplot as plt\n",
    "from keras.utils import to_categorical\n",
    "from keras.datasets import fashion_mnist"
   ]
  },
  {
   "cell_type": "code",
   "execution_count": 29,
   "metadata": {
    "executionInfo": {
     "elapsed": 584488,
     "status": "ok",
     "timestamp": 1605417184176,
     "user": {
      "displayName": "김찬호",
      "photoUrl": "",
      "userId": "05972206846376352621"
     },
     "user_tz": -540
    },
    "id": "kz8RbIxmAZ12"
   },
   "outputs": [],
   "source": [
    "(X_train, y_train), (X_test, y_test) = fashion_mnist.load_data()"
   ]
  },
  {
   "cell_type": "code",
   "execution_count": 30,
   "metadata": {
    "colab": {
     "base_uri": "https://localhost:8080/",
     "height": 283
    },
    "executionInfo": {
     "elapsed": 584475,
     "status": "ok",
     "timestamp": 1605417184178,
     "user": {
      "displayName": "김찬호",
      "photoUrl": "",
      "userId": "05972206846376352621"
     },
     "user_tz": -540
    },
    "id": "0A-VUdsnAZ14",
    "outputId": "03f0fa99-8fc6-4f7d-bf6c-258123bce4d5"
   },
   "outputs": [
    {
     "data": {
      "text/plain": [
       "(9, <matplotlib.image.AxesImage at 0x7f530a9ec390>)"
      ]
     },
     "execution_count": 30,
     "metadata": {
      "tags": []
     },
     "output_type": "execute_result"
    },
    {
     "data": {
      "image/png": "[encoded data removed]",
      "text/plain": [
       "<Figure size 432x288 with 1 Axes>"
      ]
     },
     "metadata": {
      "needs_background": "light",
      "tags": []
     },
     "output_type": "display_data"
    }
   ],
   "source": [
    "y_train[0], plt.imshow(X_train[0],cmap=plt.cm.binary)"
   ]
  },
  {
   "cell_type": "code",
   "execution_count": 31,
   "metadata": {
    "colab": {
     "base_uri": "https://localhost:8080/"
    },
    "executionInfo": {
     "elapsed": 584464,
     "status": "ok",
     "timestamp": 1605417184180,
     "user": {
      "displayName": "김찬호",
      "photoUrl": "",
      "userId": "05972206846376352621"
     },
     "user_tz": -540
    },
    "id": "sO3dgKApAZ17",
    "outputId": "2cd20dc5-2560-4c29-f735-790898146904"
   },
   "outputs": [
    {
     "data": {
      "text/plain": [
       "(28, 28)"
      ]
     },
     "execution_count": 31,
     "metadata": {
      "tags": []
     },
     "output_type": "execute_result"
    }
   ],
   "source": [
    "np.shape(X_train[0])"
   ]
  },
  {
   "cell_type": "markdown",
   "metadata": {
    "id": "mUcQrGFNAZ19"
   },
   "source": [
    "데이터는 흑백 데이터이므로 층을 하나로 나눔"
   ]
  },
  {
   "cell_type": "code",
   "execution_count": 32,
   "metadata": {
    "executionInfo": {
     "elapsed": 584732,
     "status": "ok",
     "timestamp": 1605417184452,
     "user": {
      "displayName": "김찬호",
      "photoUrl": "",
      "userId": "05972206846376352621"
     },
     "user_tz": -540
    },
    "id": "LbYwthppAZ19"
   },
   "outputs": [],
   "source": [
    "X_train = X_train.reshape((60000, 28, 28, 1))\n",
    "X_train = X_train/255\n",
    "\n",
    "X_test = X_test.reshape((10000, 28, 28, 1))\n",
    "X_test = X_test/255\n",
    "\n",
    "y_train=to_categorical(y_train)\n",
    "y_test=to_categorical(y_test)"
   ]
  },
  {
   "cell_type": "code",
   "execution_count": 33,
   "metadata": {
    "executionInfo": {
     "elapsed": 584728,
     "status": "ok",
     "timestamp": 1605417184453,
     "user": {
      "displayName": "김찬호",
      "photoUrl": "",
      "userId": "05972206846376352621"
     },
     "user_tz": -540
    },
    "id": "rU0PKU0_AZ1_"
   },
   "outputs": [],
   "source": [
    "# 검증 데이터 설정\n",
    "X_val = X_train[:10000]\n",
    "partial_X_train = X_train[10000:]\n",
    "\n",
    "y_val = y_train[:10000]\n",
    "partial_y_train = y_train[10000:]"
   ]
  },
  {
   "cell_type": "code",
   "execution_count": 34,
   "metadata": {
    "executionInfo": {
     "elapsed": 584724,
     "status": "ok",
     "timestamp": 1605417184454,
     "user": {
      "displayName": "김찬호",
      "photoUrl": "",
      "userId": "05972206846376352621"
     },
     "user_tz": -540
    },
    "id": "WDbJcCkJAZ2B"
   },
   "outputs": [],
   "source": [
    "net = models.Sequential()\n",
    "\n",
    "# 2D network를 만듦. filter를 32개를 쓰고, convolution할 픽셀은 3*3 픽셀\n",
    "net.add(layers.Conv2D(64,(3,3), activation='relu', padding='same', input_shape=(28,28,1)))\n",
    "# 2*2 matrix를 max pooling으로 픽셀을 줄임.\n",
    "net.add(layers.MaxPooling2D((2,2)))\n",
    "\n",
    "# max pooling한 것에 대해 다시 합성곱 실행\n",
    "net.add(layers.Conv2D(64,(3,3), activation='relu',padding='same',)) \n",
    "net.add(layers.MaxPooling2D((2,2)))\n",
    "net.add(layers.Conv2D(64,(3,3), activation='relu',padding='same',)) \n",
    "net.add(layers.MaxPooling2D((2,2)))\n",
    "net.add(layers.Conv2D(64,(3,3), activation='relu', padding='same',))\n",
    "net.add(layers.Flatten()) # matrix 결과로 나온 것을 1차원 벡터로 만들어줌.\n",
    "# 1차원으로 만든 후 Dense layer를 쌓음.\n",
    "\n",
    "net.add(layers.Dense(512, activation='relu', input_shape=(28*28,))) \n",
    "net.add(layers.Dense(512, activation='relu')) \n",
    "net.add(layers.Dropout(0.2))\n",
    "net.add(layers.Dense(512, activation='relu')) \n",
    "net.add(layers.Dropout(0.2))\n",
    "net.add(layers.Dense(10, activation='softmax')) \n",
    "net.compile(optimizer='nadam',loss='categorical_crossentropy',metrics=['acc'])\n"
   ]
  },
  {
   "cell_type": "code",
   "execution_count": 35,
   "metadata": {
    "colab": {
     "base_uri": "https://localhost:8080/"
    },
    "executionInfo": {
     "elapsed": 584711,
     "status": "ok",
     "timestamp": 1605417184454,
     "user": {
      "displayName": "김찬호",
      "photoUrl": "",
      "userId": "05972206846376352621"
     },
     "user_tz": -540
    },
    "id": "_2NVzIxcAZ2C",
    "outputId": "242dc4be-5ef9-4399-fc55-2bd20ace6533"
   },
   "outputs": [
    {
     "name": "stdout",
     "output_type": "stream",
     "text": [
      "Model: \"sequential_5\"\n",
      "_________________________________________________________________\n",
      "Layer (type)                 Output Shape              Param #   \n",
      "=================================================================\n",
      "conv2d_4 (Conv2D)            (None, 28, 28, 64)        640       \n",
      "_________________________________________________________________\n",
      "max_pooling2d_3 (MaxPooling2 (None, 14, 14, 64)        0         \n",
      "_________________________________________________________________\n",
      "conv2d_5 (Conv2D)            (None, 14, 14, 64)        36928     \n",
      "_________________________________________________________________\n",
      "max_pooling2d_4 (MaxPooling2 (None, 7, 7, 64)          0         \n",
      "_________________________________________________________________\n",
      "conv2d_6 (Conv2D)            (None, 7, 7, 64)          36928     \n",
      "_________________________________________________________________\n",
      "max_pooling2d_5 (MaxPooling2 (None, 3, 3, 64)          0         \n",
      "_________________________________________________________________\n",
      "conv2d_7 (Conv2D)            (None, 3, 3, 64)          36928     \n",
      "_________________________________________________________________\n",
      "flatten_1 (Flatten)          (None, 576)               0         \n",
      "_________________________________________________________________\n",
      "dense_20 (Dense)             (None, 512)               295424    \n",
      "_________________________________________________________________\n",
      "dense_21 (Dense)             (None, 512)               262656    \n",
      "_________________________________________________________________\n",
      "dropout_10 (Dropout)         (None, 512)               0         \n",
      "_________________________________________________________________\n",
      "dense_22 (Dense)             (None, 512)               262656    \n",
      "_________________________________________________________________\n",
      "dropout_11 (Dropout)         (None, 512)               0         \n",
      "_________________________________________________________________\n",
      "dense_23 (Dense)             (None, 10)                5130      \n",
      "=================================================================\n",
      "Total params: 937,290\n",
      "Trainable params: 937,290\n",
      "Non-trainable params: 0\n",
      "_________________________________________________________________\n"
     ]
    }
   ],
   "source": [
    "net.summary()"
   ]
  },
  {
   "cell_type": "code",
   "execution_count": 36,
   "metadata": {
    "colab": {
     "base_uri": "https://localhost:8080/"
    },
    "executionInfo": {
     "elapsed": 4766849,
     "status": "ok",
     "timestamp": 1605421366607,
     "user": {
      "displayName": "김찬호",
      "photoUrl": "",
      "userId": "05972206846376352621"
     },
     "user_tz": -540
    },
    "id": "ThcUs51OAZ2F",
    "outputId": "e7f88797-9801-4a50-cbbb-3b50dea658e0",
    "scrolled": true
   },
   "outputs": [
    {
     "name": "stdout",
     "output_type": "stream",
     "text": [
      "Epoch 1/30\n",
      "782/782 [==============================] - 139s 177ms/step - loss: 0.5210 - acc: 0.8068 - val_loss: 0.4625 - val_acc: 0.8382\n",
      "Epoch 2/30\n",
      "782/782 [==============================] - 147s 187ms/step - loss: 0.3000 - acc: 0.8912 - val_loss: 0.2799 - val_acc: 0.8952\n",
      "Epoch 3/30\n",
      "782/782 [==============================] - 143s 183ms/step - loss: 0.2510 - acc: 0.9081 - val_loss: 0.2522 - val_acc: 0.9049\n",
      "Epoch 4/30\n",
      "782/782 [==============================] - 141s 180ms/step - loss: 0.2218 - acc: 0.9198 - val_loss: 0.2343 - val_acc: 0.9159\n",
      "Epoch 5/30\n",
      "782/782 [==============================] - 137s 176ms/step - loss: 0.1991 - acc: 0.9284 - val_loss: 0.2281 - val_acc: 0.9204\n",
      "Epoch 6/30\n",
      "782/782 [==============================] - 144s 184ms/step - loss: 0.1809 - acc: 0.9342 - val_loss: 0.2426 - val_acc: 0.9214\n",
      "Epoch 7/30\n",
      "782/782 [==============================] - 140s 179ms/step - loss: 0.1653 - acc: 0.9405 - val_loss: 0.2479 - val_acc: 0.9190\n",
      "Epoch 8/30\n",
      "782/782 [==============================] - 138s 177ms/step - loss: 0.1517 - acc: 0.9439 - val_loss: 0.2747 - val_acc: 0.9122\n",
      "Epoch 9/30\n",
      "782/782 [==============================] - 140s 179ms/step - loss: 0.1394 - acc: 0.9474 - val_loss: 0.2660 - val_acc: 0.9145\n",
      "Epoch 10/30\n",
      "782/782 [==============================] - 138s 176ms/step - loss: 0.1287 - acc: 0.9522 - val_loss: 0.2798 - val_acc: 0.9157\n",
      "Epoch 11/30\n",
      "782/782 [==============================] - 146s 187ms/step - loss: 0.1162 - acc: 0.9566 - val_loss: 0.2580 - val_acc: 0.9186\n",
      "Epoch 12/30\n",
      "782/782 [==============================] - 136s 174ms/step - loss: 0.1105 - acc: 0.9595 - val_loss: 0.2723 - val_acc: 0.9206\n",
      "Epoch 13/30\n",
      "782/782 [==============================] - 138s 176ms/step - loss: 0.0993 - acc: 0.9633 - val_loss: 0.3012 - val_acc: 0.9198\n",
      "Epoch 14/30\n",
      "782/782 [==============================] - 135s 172ms/step - loss: 0.0919 - acc: 0.9663 - val_loss: 0.2884 - val_acc: 0.9193\n",
      "Epoch 15/30\n",
      "782/782 [==============================] - 140s 178ms/step - loss: 0.0901 - acc: 0.9669 - val_loss: 0.2948 - val_acc: 0.9211\n",
      "Epoch 16/30\n",
      "782/782 [==============================] - 141s 181ms/step - loss: 0.0792 - acc: 0.9709 - val_loss: 0.3492 - val_acc: 0.9159\n",
      "Epoch 17/30\n",
      "782/782 [==============================] - 137s 175ms/step - loss: 0.0753 - acc: 0.9726 - val_loss: 0.3101 - val_acc: 0.9192\n",
      "Epoch 18/30\n",
      "782/782 [==============================] - 146s 187ms/step - loss: 0.0726 - acc: 0.9744 - val_loss: 0.3314 - val_acc: 0.9179\n",
      "Epoch 19/30\n",
      "782/782 [==============================] - 145s 185ms/step - loss: 0.0696 - acc: 0.9749 - val_loss: 0.3374 - val_acc: 0.9179\n",
      "Epoch 20/30\n",
      "782/782 [==============================] - 140s 179ms/step - loss: 0.0670 - acc: 0.9764 - val_loss: 0.3634 - val_acc: 0.9188\n",
      "Epoch 21/30\n",
      "782/782 [==============================] - 137s 175ms/step - loss: 0.0587 - acc: 0.9790 - val_loss: 0.3839 - val_acc: 0.9169\n",
      "Epoch 22/30\n",
      "782/782 [==============================] - 136s 173ms/step - loss: 0.0535 - acc: 0.9805 - val_loss: 0.4537 - val_acc: 0.9190\n",
      "Epoch 23/30\n",
      "782/782 [==============================] - 132s 169ms/step - loss: 0.0671 - acc: 0.9776 - val_loss: 0.4381 - val_acc: 0.9142\n",
      "Epoch 24/30\n",
      "782/782 [==============================] - 141s 180ms/step - loss: 0.0551 - acc: 0.9809 - val_loss: 0.4093 - val_acc: 0.9171\n",
      "Epoch 25/30\n",
      "782/782 [==============================] - 136s 174ms/step - loss: 0.0544 - acc: 0.9814 - val_loss: 0.4154 - val_acc: 0.9210\n",
      "Epoch 26/30\n",
      "782/782 [==============================] - 135s 173ms/step - loss: 0.0445 - acc: 0.9845 - val_loss: 0.3961 - val_acc: 0.9218\n",
      "Epoch 27/30\n",
      "782/782 [==============================] - 136s 174ms/step - loss: 0.0473 - acc: 0.9835 - val_loss: 0.4455 - val_acc: 0.9203\n",
      "Epoch 28/30\n",
      "782/782 [==============================] - 136s 174ms/step - loss: 0.0484 - acc: 0.9835 - val_loss: 0.4153 - val_acc: 0.9194\n",
      "Epoch 29/30\n",
      "782/782 [==============================] - 136s 174ms/step - loss: 0.0482 - acc: 0.9844 - val_loss: 0.4235 - val_acc: 0.9230\n",
      "Epoch 30/30\n",
      "782/782 [==============================] - 140s 179ms/step - loss: 0.0449 - acc: 0.9853 - val_loss: 0.4924 - val_acc: 0.9225\n"
     ]
    }
   ],
   "source": [
    "validation= net.fit(partial_X_train,partial_y_train,epochs=30, batch_size=64, validation_data=(X_val, y_val))"
   ]
  },
  {
   "cell_type": "code",
   "execution_count": 37,
   "metadata": {
    "colab": {
     "base_uri": "https://localhost:8080/",
     "height": 283
    },
    "executionInfo": {
     "elapsed": 1404,
     "status": "ok",
     "timestamp": 1605421368050,
     "user": {
      "displayName": "김찬호",
      "photoUrl": "",
      "userId": "05972206846376352621"
     },
     "user_tz": -540
    },
    "id": "HgwGlN--AZ2H",
    "outputId": "3dde8ec0-df18-4d10-d732-45bc0761ccd3"
   },
   "outputs": [
    {
     "data": {
      "text/plain": [
       "<matplotlib.legend.Legend at 0x7f5313e5c9b0>"
      ]
     },
     "execution_count": 37,
     "metadata": {
      "tags": []
     },
     "output_type": "execute_result"
    },
    {
     "data": {
      "image/png": "[encoded data removed]",
      "text/plain": [
       "<Figure size 432x288 with 1 Axes>"
      ]
     },
     "metadata": {
      "needs_background": "light",
      "tags": []
     },
     "output_type": "display_data"
    }
   ],
   "source": [
    "val_dict = validation.history\n",
    "loss = val_dict['loss']\n",
    "val_loss = val_dict['val_loss']\n",
    "\n",
    "x = np.arange(0,len(loss))\n",
    "plt.plot(x,loss,'bo',label='E')\n",
    "plt.plot(x,val_loss,'ro',label='$E_v$')\n",
    "plt.legend()"
   ]
  },
  {
   "cell_type": "code",
   "execution_count": 38,
   "metadata": {
    "colab": {
     "base_uri": "https://localhost:8080/",
     "height": 283
    },
    "executionInfo": {
     "elapsed": 1747,
     "status": "ok",
     "timestamp": 1605421368414,
     "user": {
      "displayName": "김찬호",
      "photoUrl": "",
      "userId": "05972206846376352621"
     },
     "user_tz": -540
    },
    "id": "Dz6XtmezAZ2J",
    "outputId": "c37f4788-a887-4dc4-859b-110637b23090"
   },
   "outputs": [
    {
     "data": {
      "text/plain": [
       "[<matplotlib.lines.Line2D at 0x7f530ca4d7b8>]"
      ]
     },
     "execution_count": 38,
     "metadata": {
      "tags": []
     },
     "output_type": "execute_result"
    },
    {
     "data": {
      "image/png": "[encoded data removed]",
      "text/plain": [
       "<Figure size 432x288 with 1 Axes>"
      ]
     },
     "metadata": {
      "needs_background": "light",
      "tags": []
     },
     "output_type": "display_data"
    }
   ],
   "source": [
    "acc = val_dict['acc']\n",
    "val_acc = val_dict['val_acc']\n",
    "plt.plot(x,acc,'bo',label='Accuracy')\n",
    "plt.plot(x,val_acc,'ro',label='A_v')"
   ]
  },
  {
   "cell_type": "code",
   "execution_count": 39,
   "metadata": {
    "colab": {
     "base_uri": "https://localhost:8080/"
    },
    "executionInfo": {
     "elapsed": 8572,
     "status": "ok",
     "timestamp": 1605421375244,
     "user": {
      "displayName": "김찬호",
      "photoUrl": "",
      "userId": "05972206846376352621"
     },
     "user_tz": -540
    },
    "id": "0rck0_iFAZ2L",
    "outputId": "b3487fdb-45b3-4549-a39e-f9ec2a0cd7d4"
   },
   "outputs": [
    {
     "name": "stdout",
     "output_type": "stream",
     "text": [
      "313/313 [==============================] - 7s 22ms/step - loss: 0.5800 - acc: 0.9159\n"
     ]
    }
   ],
   "source": [
    "test_loss, test_acc = net.evaluate(X_test,y_test)"
   ]
  },
  {
   "cell_type": "markdown",
   "metadata": {
    "id": "6_KDc-f7AZ2M"
   },
   "source": [
    "convoltion을 적용한 뒤에 MLP와 같은 hyper parameter를 사용하여 학습을 하였더니 test data를 0.9159 정도의 정확도로 분류하였다.\n",
    "위의 validation을 이용하여 분석한 그래프를 보면 parameter를 조정하여 training을 하면 정확도가 더 높아질 수 있을 것으로 보인다."
   ]
  }
 ],
 "metadata": {
  "colab": {
   "collapsed_sections": [],
   "name": "hw9.ipynb",
   "provenance": []
  },
  "kernelspec": {
   "display_name": "Python 3",
   "language": "python",
   "name": "python3"
  },
  "language_info": {
   "codemirror_mode": {
    "name": "ipython",
    "version": 3
   },
   "file_extension": ".py",
   "mimetype": "text/x-python",
   "name": "python",
   "nbconvert_exporter": "python",
   "pygments_lexer": "ipython3",
   "version": "3.6.10"
  }
 },
 "nbformat": 4,
 "nbformat_minor": 1
}
