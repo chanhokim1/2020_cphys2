{
 "cells": [
  {
   "cell_type": "markdown",
   "metadata": {},
   "source": [
    "## IMDB 감정 분류하기\n",
    "영화 리뷰 데이터. 긍정적인 리뷰와 부정적인 리뷰 분류하기\\\n",
    "긍정적인 리뷰는 1, 부정적인 리뷰는 0으로 나타냄.\\\n",
    "긍정적인 단어가 많은지, 부정적인 데이터가 많은지 구분하여 리뷰한 사람의 감정을 분류함."
   ]
  },
  {
   "cell_type": "code",
   "execution_count": 1,
   "metadata": {},
   "outputs": [],
   "source": [
    "import numpy as np\n",
    "from tensorflow import keras\n",
    "from keras import models \n",
    "from keras import layers\n",
    "import matplotlib.pyplot as plt\n",
    "\n",
    "from keras.datasets import imdb"
   ]
  },
  {
   "cell_type": "code",
   "execution_count": 2,
   "metadata": {},
   "outputs": [],
   "source": [
    "(X_train, y_train), (X_test, y_test) = imdb.load_data(num_words=10000)"
   ]
  },
  {
   "cell_type": "code",
   "execution_count": 3,
   "metadata": {},
   "outputs": [
    {
     "name": "stdout",
     "output_type": "stream",
     "text": [
      "trian data : 25000\n",
      "test data : 25000\n"
     ]
    }
   ],
   "source": [
    "# 데이터의 개수\n",
    "print('trian data : {}'.format(len(X_train)))\n",
    "print('test data : {}'.format(len(X_test)))"
   ]
  },
  {
   "cell_type": "code",
   "execution_count": 4,
   "metadata": {},
   "outputs": [
    {
     "name": "stdout",
     "output_type": "stream",
     "text": [
      "[1, 14, 22, 16, 43, 530, 973, 1622, 1385, 65, 458, 4468, 66, 3941, 4, 173, 36, 256, 5, 25, 100, 43, 838, 112, 50, 670, 2, 9, 35, 480, 284, 5, 150, 4, 172, 112, 167, 2, 336, 385, 39, 4, 172, 4536, 1111, 17, 546, 38, 13, 447, 4, 192, 50, 16, 6, 147, 2025, 19, 14, 22, 4, 1920, 4613, 469, 4, 22, 71, 87, 12, 16, 43, 530, 38, 76, 15, 13, 1247, 4, 22, 17, 515, 17, 12, 16, 626, 18, 2, 5, 62, 386, 12, 8, 316, 8, 106, 5, 4, 2223, 5244, 16, 480, 66, 3785, 33, 4, 130, 12, 16, 38, 619, 5, 25, 124, 51, 36, 135, 48, 25, 1415, 33, 6, 22, 12, 215, 28, 77, 52, 5, 14, 407, 16, 82, 2, 8, 4, 107, 117, 5952, 15, 256, 4, 2, 7, 3766, 5, 723, 36, 71, 43, 530, 476, 26, 400, 317, 46, 7, 4, 2, 1029, 13, 104, 88, 4, 381, 15, 297, 98, 32, 2071, 56, 26, 141, 6, 194, 7486, 18, 4, 226, 22, 21, 134, 476, 26, 480, 5, 144, 30, 5535, 18, 51, 36, 28, 224, 92, 25, 104, 4, 226, 65, 16, 38, 1334, 88, 12, 16, 283, 5, 16, 4472, 113, 103, 32, 15, 16, 5345, 19, 178, 32]\n"
     ]
    }
   ],
   "source": [
    "# 각각의 숫자는 빈도가 높은 순으로 단어 하나하나에 대응됨\n",
    "print(X_train[0])"
   ]
  },
  {
   "cell_type": "code",
   "execution_count": 5,
   "metadata": {},
   "outputs": [
    {
     "name": "stdout",
     "output_type": "stream",
     "text": [
      "1\n"
     ]
    }
   ],
   "source": [
    "# 첫번째 데이터는 긍정적인 리뷰임.\n",
    "print(y_train[0])"
   ]
  },
  {
   "cell_type": "code",
   "execution_count": 6,
   "metadata": {},
   "outputs": [
    {
     "name": "stdout",
     "output_type": "stream",
     "text": [
      "# this film was just brilliant casting location scenery story direction everyone's really suited the part they played and you could just imagine being there robert # is an amazing actor and now the same being director # father came from the same scottish island as myself so i loved the fact there was a real connection with this film the witty remarks throughout the film were great it was just brilliant so much that i bought the film as soon as it was released for # and would recommend it to everyone to watch and the fly fishing was amazing really cried at the end it was so sad and you know what they say if you cry at a film it must have been good and this definitely was also # to the two little boy's that played the # of norman and paul they were just brilliant children are often left out of the # list i think because the stars that play them all grown up are such a big profile for the whole film but these children are amazing and should be praised for what they have done don't you think the whole story was so lovely because it was true and was someone's life after all that was shared with us all\n"
     ]
    }
   ],
   "source": [
    "# 전처리하기 전 원래의 데이터 \n",
    "index = imdb.get_word_index() \n",
    "index_to_word={}\n",
    "for key, value in index.items():\n",
    "    index_to_word[value+3] = key\n",
    "decoded = \" \".join( [index_to_word.get(i, \"#\") for i in X_train[0]] )\n",
    "print(decoded)"
   ]
  },
  {
   "cell_type": "code",
   "execution_count": 7,
   "metadata": {},
   "outputs": [],
   "source": [
    "# 문자를 벡터열로 변환함.\n",
    "def vect(seq, dim=20000):\n",
    "    X_vec=np.zeros((len(seq),dim)) #훈련 데이터의 개수 크기 만큼의 리스트를 만든다.\n",
    "    for n, i in enumerate(seq):\n",
    "        X_vec[n, i] = 1\n",
    "    return X_vec"
   ]
  },
  {
   "cell_type": "code",
   "execution_count": 8,
   "metadata": {},
   "outputs": [],
   "source": [
    "X_train=vect(X_train)\n",
    "X_test=vect(X_test)"
   ]
  },
  {
   "cell_type": "code",
   "execution_count": 10,
   "metadata": {},
   "outputs": [],
   "source": [
    "X_val = X_train[:10000]\n",
    "partial_X_train = X_train[10000:]\n",
    "\n",
    "y_val = y_train[:10000]\n",
    "partial_y_train = y_train[10000:]"
   ]
  },
  {
   "cell_type": "code",
   "execution_count": 12,
   "metadata": {},
   "outputs": [],
   "source": [
    "net = models.Sequential()\n",
    "net.add(layers.Dense(256, activation='relu', input_shape=(20000,)))\n",
    "net.add(layers.Dense(16, activation='relu'))\n",
    "net.add(layers.Dense(1, activation='sigmoid'))\n",
    "net.compile(optimizer='nadam', loss='binary_crossentropy', metrics = ['acc'])"
   ]
  },
  {
   "cell_type": "code",
   "execution_count": 13,
   "metadata": {},
   "outputs": [
    {
     "name": "stdout",
     "output_type": "stream",
     "text": [
      "Epoch 1/10\n",
      "118/118 [==============================] - 9s 78ms/step - loss: 0.3653 - acc: 0.8427 - val_loss: 0.2910 - val_acc: 0.8821\n",
      "Epoch 2/10\n",
      "118/118 [==============================] - 9s 75ms/step - loss: 0.1654 - acc: 0.9394 - val_loss: 0.3589 - val_acc: 0.8697\n",
      "Epoch 3/10\n",
      "118/118 [==============================] - 9s 76ms/step - loss: 0.0853 - acc: 0.9717 - val_loss: 0.4231 - val_acc: 0.8663\n",
      "Epoch 4/10\n",
      "118/118 [==============================] - 9s 73ms/step - loss: 0.0323 - acc: 0.9904 - val_loss: 0.4793 - val_acc: 0.8717\n",
      "Epoch 5/10\n",
      "118/118 [==============================] - 9s 72ms/step - loss: 0.0099 - acc: 0.9981 - val_loss: 0.5794 - val_acc: 0.8668\n",
      "Epoch 6/10\n",
      "118/118 [==============================] - 9s 72ms/step - loss: 0.0020 - acc: 0.9999 - val_loss: 0.6678 - val_acc: 0.8718\n",
      "Epoch 7/10\n",
      "118/118 [==============================] - 8s 72ms/step - loss: 6.3534e-04 - acc: 1.0000 - val_loss: 0.7747 - val_acc: 0.8728\n",
      "Epoch 8/10\n",
      "118/118 [==============================] - 9s 73ms/step - loss: 2.8619e-04 - acc: 1.0000 - val_loss: 0.8607 - val_acc: 0.8727\n",
      "Epoch 9/10\n",
      "118/118 [==============================] - 9s 73ms/step - loss: 1.7190e-04 - acc: 1.0000 - val_loss: 0.9142 - val_acc: 0.8727\n",
      "Epoch 10/10\n",
      "118/118 [==============================] - 9s 72ms/step - loss: 1.1847e-04 - acc: 1.0000 - val_loss: 0.9603 - val_acc: 0.8725\n"
     ]
    }
   ],
   "source": [
    "val = net.fit(partial_X_train, partial_y_train, epochs=10, batch_size=128, validation_data=(X_val, y_val))"
   ]
  },
  {
   "cell_type": "code",
   "execution_count": 14,
   "metadata": {},
   "outputs": [
    {
     "data": {
      "text/plain": [
       "[<matplotlib.lines.Line2D at 0x1eb0f74ffd0>]"
      ]
     },
     "execution_count": 14,
     "metadata": {},
     "output_type": "execute_result"
    },
    {
     "data": {
      "image/png": "[encoded data removed]",
      "text/plain": [
       "<Figure size 432x288 with 1 Axes>"
      ]
     },
     "metadata": {
      "needs_background": "light"
     },
     "output_type": "display_data"
    }
   ],
   "source": [
    "val_dict = val.history\n",
    "acc = val_dict['acc']\n",
    "val_acc = val_dict['val_acc']\n",
    "x = np.arange(0,len(acc))\n",
    "\n",
    "plt.plot(x,acc,'bo',label='Accuracy')\n",
    "plt.plot(x,val_acc,'ro',label='A_v')"
   ]
  },
  {
   "cell_type": "code",
   "execution_count": 15,
   "metadata": {},
   "outputs": [
    {
     "name": "stdout",
     "output_type": "stream",
     "text": [
      "782/782 [==============================] - 4s 5ms/step - loss: 1.0136 - acc: 0.8609\n",
      "score 0.8609200119972229\n"
     ]
    }
   ],
   "source": [
    "test_loss, test_acc = net.evaluate(X_test,y_test)\n",
    "print('score', test_acc)"
   ]
  },
  {
   "cell_type": "markdown",
   "metadata": {},
   "source": [
    "문자를 벡터열로 변환하여 학습하면 0.86 정도로 예측할 수 있다."
   ]
  },
  {
   "cell_type": "markdown",
   "metadata": {},
   "source": [
    "## RNN "
   ]
  },
  {
   "cell_type": "code",
   "execution_count": 10,
   "metadata": {},
   "outputs": [
    {
     "name": "stdout",
     "output_type": "stream",
     "text": [
      "Model: \"sequential_9\"\n",
      "_________________________________________________________________\n",
      "Layer (type)                 Output Shape              Param #   \n",
      "=================================================================\n",
      "embedding_9 (Embedding)      (None, None, 8)           80000     \n",
      "_________________________________________________________________\n",
      "simple_rnn_18 (SimpleRNN)    (None, None, 16)          400       \n",
      "_________________________________________________________________\n",
      "dropout_18 (Dropout)         (None, None, 16)          0         \n",
      "_________________________________________________________________\n",
      "simple_rnn_19 (SimpleRNN)    (None, 32)                1568      \n",
      "_________________________________________________________________\n",
      "dropout_19 (Dropout)         (None, 32)                0         \n",
      "_________________________________________________________________\n",
      "dense_9 (Dense)              (None, 1)                 33        \n",
      "=================================================================\n",
      "Total params: 82,001\n",
      "Trainable params: 82,001\n",
      "Non-trainable params: 0\n",
      "_________________________________________________________________\n",
      "None\n",
      "Epoch 1/10\n",
      "313/313 [==============================] - 21s 68ms/step - loss: 0.5543 - acc: 0.6930 - val_loss: 0.3852 - val_acc: 0.8374\n",
      "Epoch 2/10\n",
      "313/313 [==============================] - 22s 69ms/step - loss: 0.3334 - acc: 0.8673 - val_loss: 0.3704 - val_acc: 0.8396\n",
      "Epoch 3/10\n",
      "313/313 [==============================] - 22s 69ms/step - loss: 0.2633 - acc: 0.9017 - val_loss: 0.3830 - val_acc: 0.8416\n",
      "Epoch 4/10\n",
      "313/313 [==============================] - 22s 70ms/step - loss: 0.2068 - acc: 0.9245 - val_loss: 0.3708 - val_acc: 0.8396\n",
      "Epoch 5/10\n",
      "313/313 [==============================] - 22s 70ms/step - loss: 0.1524 - acc: 0.9474 - val_loss: 0.4188 - val_acc: 0.8370\n",
      "Epoch 6/10\n",
      "313/313 [==============================] - 22s 69ms/step - loss: 0.1302 - acc: 0.9589 - val_loss: 0.4530 - val_acc: 0.8550\n",
      "Epoch 7/10\n",
      "313/313 [==============================] - 22s 69ms/step - loss: 0.1431 - acc: 0.9467 - val_loss: 0.4614 - val_acc: 0.8434\n",
      "Epoch 8/10\n",
      "313/313 [==============================] - 22s 69ms/step - loss: 0.0788 - acc: 0.9750 - val_loss: 0.5199 - val_acc: 0.8438\n",
      "Epoch 9/10\n",
      "313/313 [==============================] - 22s 69ms/step - loss: 0.0557 - acc: 0.9837 - val_loss: 0.6379 - val_acc: 0.8260\n",
      "Epoch 10/10\n",
      "313/313 [==============================] - 22s 70ms/step - loss: 0.0457 - acc: 0.9873 - val_loss: 0.6831 - val_acc: 0.8332\n"
     ]
    },
    {
     "data": {
      "image/png": "[encoded data removed]",
      "text/plain": [
       "<Figure size 432x288 with 1 Axes>"
      ]
     },
     "metadata": {
      "needs_background": "light"
     },
     "output_type": "display_data"
    },
    {
     "data": {
      "image/png": "[encoded data removed]",
      "text/plain": [
       "<Figure size 432x288 with 1 Axes>"
      ]
     },
     "metadata": {
      "needs_background": "light"
     },
     "output_type": "display_data"
    },
    {
     "name": "stdout",
     "output_type": "stream",
     "text": [
      "782/782 [==============================] - 11s 14ms/step - loss: 0.7084 - acc: 0.8296\n",
      "acc 0.8295599818229675\n"
     ]
    }
   ],
   "source": [
    "import numpy as np\n",
    "from tensorflow import keras\n",
    "from keras import models \n",
    "from keras import layers\n",
    "import matplotlib.pyplot as plt\n",
    "from keras.datasets import imdb\n",
    "\n",
    "from keras.preprocessing import sequence\n",
    "from keras.layers import SimpleRNN\n",
    "\n",
    "words = 10000\n",
    "(X_train, y_train), (X_test, y_test) = imdb.load_data(num_words=words)\n",
    "\n",
    "# 단어집합의 크기를 words = 15000으로 설정함.\n",
    "X_train = sequence.pad_sequences(X_train, maxlen = 300)\n",
    "X_test = sequence.pad_sequences(X_test, maxlen = 300)\n",
    "\n",
    "rnn = models.Sequential()\n",
    "rnn.add(layers.Embedding(words, 8))\n",
    "rnn.add(layers.SimpleRNN(16, return_sequences='True'))\n",
    "rnn.add(layers.Dropout(0.2))\n",
    "rnn.add(layers.SimpleRNN(32))\n",
    "rnn.add(layers.Dropout(0.2))\n",
    "rnn.add(layers.Dense(1, activation='sigmoid'))\n",
    "rnn.compile(optimizer='nadam', loss='binary_crossentropy',metrics=['acc'])\n",
    "\n",
    "print(rnn.summary())\n",
    "\n",
    "rnn_fit = rnn.fit(X_train, y_train, epochs = 10, batch_size=64, validation_split=0.2)\n",
    "\n",
    "loss = rnn_fit.history['loss']\n",
    "val = rnn_fit.history['val_loss']\n",
    "plt.plot(loss,'b',label='train loss')\n",
    "plt.plot(val,'r',label='val loss')\n",
    "plt.title('weight loss')\n",
    "plt.legend()\n",
    "plt.show()\n",
    "\n",
    "loss = rnn_fit.history['acc']\n",
    "val = rnn_fit.history['val_acc']\n",
    "plt.plot(loss,'b', label='train acc')\n",
    "plt.plot(val,'r', label='val acc')\n",
    "plt.title('accuracy')\n",
    "plt.legend()\n",
    "plt.show()\n",
    "\n",
    "test_loss, test_acc = rnn.evaluate(X_test,y_test)\n",
    "print('acc', test_acc)\n"
   ]
  },
  {
   "cell_type": "markdown",
   "metadata": {},
   "source": [
    "위의 그래프에서 보면 전체 데이터에 대하여 3회 학습을 하면 overfitting이 없이 충분히 학습되는 것으로 보여진다"
   ]
  },
  {
   "cell_type": "code",
   "execution_count": 9,
   "metadata": {},
   "outputs": [
    {
     "name": "stdout",
     "output_type": "stream",
     "text": [
      "Epoch 1/3\n",
      "157/157 [==============================] - 13s 81ms/step - loss: 0.6807 - acc: 0.5531 - val_loss: 0.6442 - val_acc: 0.6354\n",
      "Epoch 2/3\n",
      "157/157 [==============================] - 13s 80ms/step - loss: 0.5474 - acc: 0.7377 - val_loss: 0.4093 - val_acc: 0.8304\n",
      "Epoch 3/3\n",
      "157/157 [==============================] - 13s 80ms/step - loss: 0.3432 - acc: 0.8644 - val_loss: 0.3740 - val_acc: 0.8476\n",
      "782/782 [==============================] - 11s 14ms/step - loss: 0.3833 - acc: 0.8391\n",
      "acc 0.8391199707984924\n"
     ]
    }
   ],
   "source": [
    "rnn1 = models.Sequential()\n",
    "rnn1.add(layers.Embedding(words, 8))\n",
    "rnn1.add(layers.SimpleRNN(16, return_sequences='True'))\n",
    "rnn1.add(layers.Dropout(0.2))\n",
    "rnn1.add(layers.SimpleRNN(32))\n",
    "rnn1.add(layers.Dropout(0.2))\n",
    "rnn1.add(layers.Dense(1, activation='sigmoid'))\n",
    "rnn1.compile(optimizer='nadam', loss='binary_crossentropy',metrics=['acc'])\n",
    "\n",
    "rnn_fit = rnn1.fit(X_train, y_train, epochs = 3, batch_size=128, validation_split=0.2)\n",
    "test_loss, test_acc = rnn1.evaluate(X_test,y_test)\n",
    "\n",
    "print('acc', test_acc)"
   ]
  },
  {
   "cell_type": "markdown",
   "metadata": {},
   "source": [
    "SImple RNN으로 학습하면 약 0.84의 정확도로 분류할 수 있다."
   ]
  },
  {
   "cell_type": "markdown",
   "metadata": {},
   "source": [
    "## LSTM"
   ]
  },
  {
   "cell_type": "code",
   "execution_count": 7,
   "metadata": {},
   "outputs": [
    {
     "name": "stdout",
     "output_type": "stream",
     "text": [
      "LSTM\n",
      "Model: \"sequential_1\"\n",
      "_________________________________________________________________\n",
      "Layer (type)                 Output Shape              Param #   \n",
      "=================================================================\n",
      "embedding_1 (Embedding)      (None, None, 8)           120000    \n",
      "_________________________________________________________________\n",
      "lstm (LSTM)                  (None, None, 16)          1600      \n",
      "_________________________________________________________________\n",
      "dropout_2 (Dropout)          (None, None, 16)          0         \n",
      "_________________________________________________________________\n",
      "lstm_1 (LSTM)                (None, 32)                6272      \n",
      "_________________________________________________________________\n",
      "dropout_3 (Dropout)          (None, 32)                0         \n",
      "_________________________________________________________________\n",
      "dense_1 (Dense)              (None, 1)                 33        \n",
      "=================================================================\n",
      "Total params: 127,905\n",
      "Trainable params: 127,905\n",
      "Non-trainable params: 0\n",
      "_________________________________________________________________\n",
      "None\n",
      "Epoch 1/4\n",
      "313/313 [==============================] - 44s 142ms/step - loss: 0.4717 - acc: 0.7707 - val_loss: 0.3880 - val_acc: 0.8362\n",
      "Epoch 2/4\n",
      "313/313 [==============================] - 46s 147ms/step - loss: 0.2809 - acc: 0.8900 - val_loss: 0.2885 - val_acc: 0.8778\n",
      "Epoch 3/4\n",
      "313/313 [==============================] - 46s 146ms/step - loss: 0.2193 - acc: 0.9168 - val_loss: 0.2978 - val_acc: 0.8802\n",
      "Epoch 4/4\n",
      "313/313 [==============================] - 46s 148ms/step - loss: 0.1811 - acc: 0.9348 - val_loss: 0.3001 - val_acc: 0.8696\n"
     ]
    },
    {
     "data": {
      "image/png": "[encoded data removed]",
      "text/plain": [
       "<Figure size 432x288 with 1 Axes>"
      ]
     },
     "metadata": {
      "needs_background": "light"
     },
     "output_type": "display_data"
    },
    {
     "data": {
      "image/png": "[encoded data removed]",
      "text/plain": [
       "<Figure size 432x288 with 1 Axes>"
      ]
     },
     "metadata": {
      "needs_background": "light"
     },
     "output_type": "display_data"
    },
    {
     "name": "stdout",
     "output_type": "stream",
     "text": [
      "782/782 [==============================] - 23s 30ms/step - loss: 0.3154 - acc: 0.8652\n",
      "acc 0.8652399778366089\n"
     ]
    }
   ],
   "source": [
    "import numpy as np\n",
    "from tensorflow import keras\n",
    "from keras import models \n",
    "from keras import layers\n",
    "import matplotlib.pyplot as plt\n",
    "from keras.datasets import imdb\n",
    "\n",
    "from keras.preprocessing import sequence\n",
    "from keras.layers import LSTM\n",
    "print('LSTM')\n",
    "\n",
    "words = 15000\n",
    "(X_train, y_train), (X_test, y_test) = imdb.load_data(num_words=words)\n",
    "\n",
    "X_train = sequence.pad_sequences(X_train, maxlen = 300)\n",
    "X_test = sequence.pad_sequences(X_test, maxlen = 300)\n",
    "\n",
    "lstm = models.Sequential()\n",
    "lstm.add(layers.Embedding(words, 8))\n",
    "lstm.add(layers.LSTM(16, return_sequences='True'))\n",
    "lstm.add(layers.LSTM(16, return_sequences='True'))\n",
    "lstm.add(layers.Dropout(0.2))\n",
    "lstm.add(layers.LSTM(32))\n",
    "lstm.add(layers.Dropout(0.2))\n",
    "lstm.add(layers.Dense(1, activation='sigmoid'))\n",
    "lstm.compile(optimizer='rmsprop', loss='binary_crossentropy',metrics=['acc'])\n",
    "\n",
    "print(lstm.summary())\n",
    "\n",
    "lstm_fit = lstm.fit(X_train, y_train, epochs = 4, batch_size=64, validation_split=0.2)\n",
    "\n",
    "loss = lstm_fit.history['loss']\n",
    "val = lstm_fit.history['val_loss']\n",
    "plt.plot(loss,'b',label='train loss')\n",
    "plt.plot(val,'r',label='val loss')\n",
    "plt.title('weight loss')\n",
    "plt.legend()\n",
    "plt.show()\n",
    "\n",
    "loss = lstm_fit.history['acc']\n",
    "val = lstm_fit.history['val_acc']\n",
    "plt.plot(loss,'b', label='train acc')\n",
    "plt.plot(val,'r', label='val acc')\n",
    "plt.title('accuracy')\n",
    "plt.legend()\n",
    "\n",
    "plt.show()\n",
    "\n",
    "test_loss, test_acc = lstm.evaluate(X_test,y_test)\n",
    "print('acc', test_acc)"
   ]
  },
  {
   "cell_type": "code",
   "execution_count": 8,
   "metadata": {},
   "outputs": [
    {
     "name": "stdout",
     "output_type": "stream",
     "text": [
      "Epoch 1/2\n",
      "313/313 [==============================] - 45s 143ms/step - loss: 0.4920 - acc: 0.7416 - val_loss: 0.3225 - val_acc: 0.8660\n",
      "Epoch 2/2\n",
      "313/313 [==============================] - 44s 142ms/step - loss: 0.2719 - acc: 0.8945 - val_loss: 0.2968 - val_acc: 0.8728\n",
      "782/782 [==============================] - 23s 29ms/step - loss: 0.3075 - acc: 0.8714\n",
      "acc 0.8713600039482117\n"
     ]
    }
   ],
   "source": [
    "# 위의 그래프에서 보면 전체 데이터에 대하여 2번만 학습을 하면 overfitting 없이 충분히 학습되는 것으로 보여진다.\n",
    "lstm1 = models.Sequential()\n",
    "lstm1.add(layers.Embedding(words, 8))\n",
    "lstm1.add(layers.LSTM(16, return_sequences='True'))\n",
    "lstm1.add(layers.Dropout(0.2))\n",
    "lstm1.add(layers.LSTM(32))\n",
    "lstm1.add(layers.Dropout(0.2))\n",
    "lstm1.add(layers.Dense(1, activation='sigmoid'))\n",
    "lstm1.compile(optimizer='rmsprop', loss='binary_crossentropy',metrics=['acc'])\n",
    "\n",
    "lstm_fit = lstm1.fit(X_train, y_train, epochs=2, batch_size=64, validation_split=0.2)\n",
    "test_loss, test_acc = lstm1.evaluate(X_test,y_test)\n",
    "\n",
    "print('acc', test_acc)"
   ]
  },
  {
   "cell_type": "markdown",
   "metadata": {},
   "source": [
    "LSTM으로 학습을 하면 0.87 정도의 정확도로 리뷰를 분류할 수 있다."
   ]
  }
 ],
 "metadata": {
  "kernelspec": {
   "display_name": "Python 3",
   "language": "python",
   "name": "python3"
  },
  "language_info": {
   "codemirror_mode": {
    "name": "ipython",
    "version": 3
   },
   "file_extension": ".py",
   "mimetype": "text/x-python",
   "name": "python",
   "nbconvert_exporter": "python",
   "pygments_lexer": "ipython3",
   "version": "3.6.10"
  }
 },
 "nbformat": 4,
 "nbformat_minor": 4
}
