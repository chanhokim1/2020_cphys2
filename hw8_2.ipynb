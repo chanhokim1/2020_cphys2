{
 "cells": [
  {
   "cell_type": "code",
   "execution_count": 1,
   "metadata": {},
   "outputs": [],
   "source": [
    "from keras.datasets import fashion_mnist\n",
    "from tensorflow import keras\n",
    "from keras import models \n",
    "from keras import layers\n",
    "import numpy as np\n",
    "import matplotlib.pyplot as plt\n",
    "from keras.utils import to_categorical\n",
    "\n",
    "(X, y), (X_test, y_test) = fashion_mnist.load_data()"
   ]
  },
  {
   "cell_type": "code",
   "execution_count": 2,
   "metadata": {},
   "outputs": [
    {
     "data": {
      "text/plain": [
       "(60000, 28, 28)"
      ]
     },
     "execution_count": 2,
     "metadata": {},
     "output_type": "execute_result"
    }
   ],
   "source": [
    "X.shape"
   ]
  },
  {
   "cell_type": "code",
   "execution_count": 3,
   "metadata": {},
   "outputs": [],
   "source": [
    "y = to_categorical(y)\n",
    "y_test = to_categorical(y_test)"
   ]
  },
  {
   "cell_type": "code",
   "execution_count": 4,
   "metadata": {},
   "outputs": [],
   "source": [
    "# hidden layer를 쌓는 과정\n",
    "net = models.Sequential()\n",
    "net.add(layers.Dense(512, activation='relu', input_shape=(28*28,)))   \n",
    "net.add(layers.Dense(512, activation='relu', input_shape=(28*28,))) \n",
    "net.add(layers.Dense(512, activation='relu', input_shape=(28*28,)))\n",
    "net.add(layers.Dense(10, activation='softmax'))\n",
    "net.compile(optimizer='nadam',loss='categorical_crossentropy',metrics=['acc'])"
   ]
  },
  {
   "cell_type": "code",
   "execution_count": 5,
   "metadata": {},
   "outputs": [],
   "source": [
    "# preprocessing\n",
    "X = X.reshape((60000, 28*28))\n",
    "X = X/255\n",
    "\n",
    "X_test = X_test.reshape((10000, 28*28))\n",
    "X_test = X_test/255"
   ]
  },
  {
   "cell_type": "code",
   "execution_count": 6,
   "metadata": {},
   "outputs": [],
   "source": [
    "X_val = X[:10000]\n",
    "partial_X = X[10000:]\n",
    "\n",
    "y_val = y[:10000]\n",
    "partial_y = y[10000:]"
   ]
  },
  {
   "cell_type": "code",
   "execution_count": 7,
   "metadata": {
    "scrolled": true
   },
   "outputs": [
    {
     "name": "stdout",
     "output_type": "stream",
     "text": [
      "Epoch 1/25\n",
      "391/391 [==============================] - 7s 17ms/step - loss: 0.5190 - acc: 0.8103 - val_loss: 0.3755 - val_acc: 0.8591\n",
      "Epoch 2/25\n",
      "391/391 [==============================] - 6s 15ms/step - loss: 0.3645 - acc: 0.8669 - val_loss: 0.3636 - val_acc: 0.8652\n",
      "Epoch 3/25\n",
      "391/391 [==============================] - 6s 16ms/step - loss: 0.3175 - acc: 0.8830 - val_loss: 0.3371 - val_acc: 0.8801\n",
      "Epoch 4/25\n",
      "391/391 [==============================] - 6s 15ms/step - loss: 0.2877 - acc: 0.8928 - val_loss: 0.3131 - val_acc: 0.8850\n",
      "Epoch 5/25\n",
      "391/391 [==============================] - 6s 14ms/step - loss: 0.2694 - acc: 0.8974 - val_loss: 0.3037 - val_acc: 0.8892\n",
      "Epoch 6/25\n",
      "391/391 [==============================] - 5s 14ms/step - loss: 0.2517 - acc: 0.9053 - val_loss: 0.3751 - val_acc: 0.8658\n",
      "Epoch 7/25\n",
      "391/391 [==============================] - 5s 14ms/step - loss: 0.2357 - acc: 0.9108 - val_loss: 0.3112 - val_acc: 0.8862\n",
      "Epoch 8/25\n",
      "391/391 [==============================] - 5s 14ms/step - loss: 0.2214 - acc: 0.9145 - val_loss: 0.3039 - val_acc: 0.8888\n",
      "Epoch 9/25\n",
      "391/391 [==============================] - 5s 14ms/step - loss: 0.2097 - acc: 0.9194 - val_loss: 0.3023 - val_acc: 0.8928\n",
      "Epoch 10/25\n",
      "391/391 [==============================] - 5s 14ms/step - loss: 0.2007 - acc: 0.9228 - val_loss: 0.3002 - val_acc: 0.8947\n",
      "Epoch 11/25\n",
      "391/391 [==============================] - 5s 14ms/step - loss: 0.1903 - acc: 0.9269 - val_loss: 0.3086 - val_acc: 0.8928\n",
      "Epoch 12/25\n",
      "391/391 [==============================] - 6s 14ms/step - loss: 0.1790 - acc: 0.9311 - val_loss: 0.3449 - val_acc: 0.8898\n",
      "Epoch 13/25\n",
      "391/391 [==============================] - 5s 14ms/step - loss: 0.1704 - acc: 0.9337 - val_loss: 0.4098 - val_acc: 0.8808\n",
      "Epoch 14/25\n",
      "391/391 [==============================] - 5s 14ms/step - loss: 0.1636 - acc: 0.9373 - val_loss: 0.3279 - val_acc: 0.8936\n",
      "Epoch 15/25\n",
      "391/391 [==============================] - 5s 14ms/step - loss: 0.1549 - acc: 0.9396 - val_loss: 0.3390 - val_acc: 0.8952\n",
      "Epoch 16/25\n",
      "391/391 [==============================] - 5s 14ms/step - loss: 0.1531 - acc: 0.9403 - val_loss: 0.3469 - val_acc: 0.8917\n",
      "Epoch 17/25\n",
      "391/391 [==============================] - 5s 14ms/step - loss: 0.1410 - acc: 0.9446 - val_loss: 0.4007 - val_acc: 0.8898\n",
      "Epoch 18/25\n",
      "391/391 [==============================] - 5s 14ms/step - loss: 0.1346 - acc: 0.9487 - val_loss: 0.3467 - val_acc: 0.8976\n",
      "Epoch 19/25\n",
      "391/391 [==============================] - 5s 14ms/step - loss: 0.1279 - acc: 0.9500 - val_loss: 0.3677 - val_acc: 0.8947\n",
      "Epoch 20/25\n",
      "391/391 [==============================] - 5s 14ms/step - loss: 0.1265 - acc: 0.9511 - val_loss: 0.3912 - val_acc: 0.8943\n",
      "Epoch 21/25\n",
      "391/391 [==============================] - 5s 14ms/step - loss: 0.1177 - acc: 0.9537 - val_loss: 0.3722 - val_acc: 0.8947\n",
      "Epoch 22/25\n",
      "391/391 [==============================] - 5s 14ms/step - loss: 0.1200 - acc: 0.9537 - val_loss: 0.3562 - val_acc: 0.8972\n",
      "Epoch 23/25\n",
      "391/391 [==============================] - 5s 14ms/step - loss: 0.1041 - acc: 0.9590 - val_loss: 0.4132 - val_acc: 0.8927\n",
      "Epoch 24/25\n",
      "391/391 [==============================] - 6s 15ms/step - loss: 0.1048 - acc: 0.9591 - val_loss: 0.4032 - val_acc: 0.8958\n",
      "Epoch 25/25\n",
      "391/391 [==============================] - 6s 14ms/step - loss: 0.1026 - acc: 0.9604 - val_loss: 0.4122 - val_acc: 0.8963\n"
     ]
    }
   ],
   "source": [
    "val= net.fit(partial_X,partial_y,epochs=25, batch_size=128,validation_data=(X_val, y_val))"
   ]
  },
  {
   "cell_type": "code",
   "execution_count": 8,
   "metadata": {},
   "outputs": [
    {
     "data": {
      "text/plain": [
       "<matplotlib.legend.Legend at 0x16555645a20>"
      ]
     },
     "execution_count": 8,
     "metadata": {},
     "output_type": "execute_result"
    },
    {
     "data": {
      "image/png": "[encoded data removed]",
      "text/plain": [
       "<Figure size 432x288 with 1 Axes>"
      ]
     },
     "metadata": {
      "needs_background": "light"
     },
     "output_type": "display_data"
    }
   ],
   "source": [
    "val_dict = val.history\n",
    "loss = val_dict['loss']\n",
    "val_loss = val_dict['val_loss']\n",
    "\n",
    "x = np.arange(0,len(loss))\n",
    "plt.plot(x,loss,'bo',label='E')\n",
    "plt.plot(x,val_loss,'ro',label='$E_v$')\n",
    "plt.legend()"
   ]
  },
  {
   "cell_type": "code",
   "execution_count": 9,
   "metadata": {},
   "outputs": [
    {
     "data": {
      "text/plain": [
       "[<matplotlib.lines.Line2D at 0x16555e986a0>]"
      ]
     },
     "execution_count": 9,
     "metadata": {},
     "output_type": "execute_result"
    },
    {
     "data": {
      "image/png": "[encoded data removed]",
      "text/plain": [
       "<Figure size 432x288 with 1 Axes>"
      ]
     },
     "metadata": {
      "needs_background": "light"
     },
     "output_type": "display_data"
    }
   ],
   "source": [
    "acc = val_dict['acc']\n",
    "val_acc = val_dict['val_acc']\n",
    "plt.plot(x,acc,'bo',label='Accuracy')\n",
    "plt.plot(x,val_acc,'ro',label='A_v')"
   ]
  },
  {
   "cell_type": "code",
   "execution_count": 10,
   "metadata": {},
   "outputs": [
    {
     "name": "stdout",
     "output_type": "stream",
     "text": [
      "Model: \"sequential\"\n",
      "_________________________________________________________________\n",
      "Layer (type)                 Output Shape              Param #   \n",
      "=================================================================\n",
      "dense (Dense)                (None, 512)               401920    \n",
      "_________________________________________________________________\n",
      "dense_1 (Dense)              (None, 512)               262656    \n",
      "_________________________________________________________________\n",
      "dense_2 (Dense)              (None, 512)               262656    \n",
      "_________________________________________________________________\n",
      "dense_3 (Dense)              (None, 10)                5130      \n",
      "=================================================================\n",
      "Total params: 932,362\n",
      "Trainable params: 932,362\n",
      "Non-trainable params: 0\n",
      "_________________________________________________________________\n"
     ]
    }
   ],
   "source": [
    "net.summary()"
   ]
  },
  {
   "cell_type": "markdown",
   "metadata": {},
   "source": [
    "0.8883 정도의 정확도로 분류할 수 있다."
   ]
  },
  {
   "cell_type": "code",
   "execution_count": 11,
   "metadata": {},
   "outputs": [
    {
     "name": "stdout",
     "output_type": "stream",
     "text": [
      "313/313 [==============================] - 0s 1ms/step - loss: 0.4962 - acc: 0.8883\n"
     ]
    }
   ],
   "source": [
    "test_loss, test_acc = net.evaluate(X_test, y_test)"
   ]
  },
  {
   "cell_type": "code",
   "execution_count": null,
   "metadata": {},
   "outputs": [],
   "source": []
  }
 ],
 "metadata": {
  "kernelspec": {
   "display_name": "Python 3",
   "language": "python",
   "name": "python3"
  },
  "language_info": {
   "codemirror_mode": {
    "name": "ipython",
    "version": 3
   },
   "file_extension": ".py",
   "mimetype": "text/x-python",
   "name": "python",
   "nbconvert_exporter": "python",
   "pygments_lexer": "ipython3",
   "version": "3.6.10"
  }
 },
 "nbformat": 4,
 "nbformat_minor": 4
}
